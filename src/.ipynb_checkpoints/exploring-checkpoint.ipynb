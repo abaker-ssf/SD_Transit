{
 "cells": [
  {
   "cell_type": "code",
   "execution_count": 1,
   "metadata": {
    "collapsed": true
   },
   "outputs": [],
   "source": [
    "import pandas as pd\n",
    "import matplotlib.pyplot as plt\n",
    "import seaborn as sns"
   ]
  },
  {
   "cell_type": "code",
   "execution_count": 4,
   "metadata": {},
   "outputs": [
    {
     "data": {
      "text/html": [
       "<div>\n",
       "<table border=\"1\" class=\"dataframe\">\n",
       "  <thead>\n",
       "    <tr style=\"text-align: right;\">\n",
       "      <th></th>\n",
       "      <th>service_id</th>\n",
       "      <th>monday</th>\n",
       "      <th>tuesday</th>\n",
       "      <th>wednesday</th>\n",
       "      <th>thursday</th>\n",
       "      <th>friday</th>\n",
       "      <th>saturday</th>\n",
       "      <th>sunday</th>\n",
       "      <th>start_date</th>\n",
       "      <th>end_date</th>\n",
       "    </tr>\n",
       "  </thead>\n",
       "  <tbody>\n",
       "    <tr>\n",
       "      <th>0</th>\n",
       "      <td>11112</td>\n",
       "      <td>1</td>\n",
       "      <td>1</td>\n",
       "      <td>1</td>\n",
       "      <td>1</td>\n",
       "      <td>1</td>\n",
       "      <td>1</td>\n",
       "      <td>1</td>\n",
       "      <td>20170129</td>\n",
       "      <td>20170610</td>\n",
       "    </tr>\n",
       "  </tbody>\n",
       "</table>\n",
       "</div>"
      ],
      "text/plain": [
       "   service_id  monday  tuesday  wednesday  thursday  friday  saturday  sunday  \\\n",
       "0       11112       1        1          1         1       1         1       1   \n",
       "\n",
       "   start_date  end_date  \n",
       "0    20170129  20170610  "
      ]
     },
     "execution_count": 4,
     "metadata": {},
     "output_type": "execute_result"
    }
   ],
   "source": [
    "# Looking into the calendar\n",
    "cal = pd.read_csv('./Data/Static_GTFS_MTS_SD/calendar.txt')\n",
    "cal.head()\n",
    "# The calendar for the static GTFS data is for 01/29/2017 to 06/10/2017\n",
    "# It's Active everyday of the week."
   ]
  },
  {
   "cell_type": "code",
   "execution_count": 5,
   "metadata": {},
   "outputs": [
    {
     "data": {
      "text/html": [
       "<div>\n",
       "<table border=\"1\" class=\"dataframe\">\n",
       "  <thead>\n",
       "    <tr style=\"text-align: right;\">\n",
       "      <th></th>\n",
       "      <th>service_id</th>\n",
       "      <th>date</th>\n",
       "      <th>exception_type</th>\n",
       "      <th>exception_note</th>\n",
       "      <th>schedule_type</th>\n",
       "    </tr>\n",
       "  </thead>\n",
       "  <tbody>\n",
       "    <tr>\n",
       "      <th>0</th>\n",
       "      <td>63895</td>\n",
       "      <td>20170129</td>\n",
       "      <td>1</td>\n",
       "      <td>FINAL</td>\n",
       "      <td>SU</td>\n",
       "    </tr>\n",
       "    <tr>\n",
       "      <th>1</th>\n",
       "      <td>63921</td>\n",
       "      <td>20170129</td>\n",
       "      <td>1</td>\n",
       "      <td>FINAL</td>\n",
       "      <td>SU</td>\n",
       "    </tr>\n",
       "    <tr>\n",
       "      <th>2</th>\n",
       "      <td>64034</td>\n",
       "      <td>20170129</td>\n",
       "      <td>1</td>\n",
       "      <td>PRODUCTION</td>\n",
       "      <td>SU</td>\n",
       "    </tr>\n",
       "    <tr>\n",
       "      <th>3</th>\n",
       "      <td>63955</td>\n",
       "      <td>20170129</td>\n",
       "      <td>1</td>\n",
       "      <td>Schedule #105</td>\n",
       "      <td>SU</td>\n",
       "    </tr>\n",
       "    <tr>\n",
       "      <th>4</th>\n",
       "      <td>63917</td>\n",
       "      <td>20170130</td>\n",
       "      <td>1</td>\n",
       "      <td>FINAL</td>\n",
       "      <td>WD</td>\n",
       "    </tr>\n",
       "  </tbody>\n",
       "</table>\n",
       "</div>"
      ],
      "text/plain": [
       "   service_id      date  exception_type exception_note schedule_type\n",
       "0       63895  20170129               1          FINAL            SU\n",
       "1       63921  20170129               1          FINAL            SU\n",
       "2       64034  20170129               1     PRODUCTION            SU\n",
       "3       63955  20170129               1  Schedule #105            SU\n",
       "4       63917  20170130               1          FINAL            WD"
      ]
     },
     "execution_count": 5,
     "metadata": {},
     "output_type": "execute_result"
    }
   ],
   "source": [
    "cal_date = pd.read_csv('./Data/Static_GTFS_MTS_SD/calendar_dates.txt')\n",
    "cal_date.head()"
   ]
  },
  {
   "cell_type": "code",
   "execution_count": 12,
   "metadata": {},
   "outputs": [
    {
     "name": "stderr",
     "output_type": "stream",
     "text": [
      "/Users/AlexanderBaker/anaconda/envs/SD_Transit/lib/python3.5/site-packages/IPython/core/interactiveshell.py:2683: DtypeWarning: Columns (8,11) have mixed types. Specify dtype option on import or set low_memory=False.\n",
      "  interactivity=interactivity, compiler=compiler, result=result)\n"
     ]
    }
   ],
   "source": [
    "stop_times = pd.read_csv('./Data/Static_GTFS_MTS_SD/stop_times.txt')\n",
    "unique_ids = stop_times['trip_id'].unique()"
   ]
  },
  {
   "cell_type": "code",
   "execution_count": 16,
   "metadata": {},
   "outputs": [
    {
     "name": "stdout",
     "output_type": "stream",
     "text": [
      "<class 'numpy.ndarray'>\n",
      "20247\n"
     ]
    }
   ],
   "source": [
    "print(type(unique_ids))\n",
    "print(len(unique_ids))"
   ]
  },
  {
   "cell_type": "code",
   "execution_count": 9,
   "metadata": {},
   "outputs": [
    {
     "name": "stdout",
     "output_type": "stream",
     "text": [
      "[['position', 'timestamp', 'trip', 'vehicle'], ['position', 'timestamp', 'trip', 'vehicle'], ['position', 'timestamp', 'trip', 'vehicle'], ['position', 'timestamp', 'trip', 'vehicle'], ['position', 'timestamp', 'trip', 'vehicle'], ['position', 'timestamp', 'vehicle'], ['position', 'timestamp', 'trip', 'vehicle'], ['position', 'timestamp', 'trip', 'vehicle'], ['position', 'timestamp', 'trip', 'vehicle'], ['position', 'timestamp', 'vehicle'], ['position', 'timestamp', 'trip', 'vehicle'], ['position', 'timestamp', 'trip', 'vehicle'], ['position', 'timestamp', 'trip', 'vehicle'], ['position', 'timestamp', 'vehicle'], ['position', 'timestamp', 'trip', 'vehicle'], ['position', 'timestamp', 'vehicle'], ['position', 'timestamp', 'vehicle'], ['position', 'timestamp', 'vehicle'], ['position', 'timestamp', 'trip', 'vehicle'], ['position', 'timestamp', 'trip', 'vehicle'], ['position', 'timestamp', 'trip', 'vehicle'], ['position', 'timestamp', 'trip', 'vehicle'], ['position', 'timestamp', 'trip', 'vehicle'], ['position', 'timestamp', 'trip', 'vehicle'], ['position', 'timestamp', 'vehicle'], ['position', 'timestamp', 'trip', 'vehicle'], ['position', 'timestamp', 'trip', 'vehicle'], ['position', 'timestamp', 'trip', 'vehicle'], ['position', 'timestamp', 'trip', 'vehicle'], ['position', 'timestamp', 'trip', 'vehicle'], ['position', 'timestamp', 'trip', 'vehicle'], ['position', 'timestamp', 'vehicle'], ['position', 'timestamp', 'trip', 'vehicle'], ['position', 'timestamp', 'trip', 'vehicle'], ['position', 'timestamp', 'trip', 'vehicle'], ['position', 'timestamp', 'vehicle'], ['position', 'timestamp', 'trip', 'vehicle'], ['position', 'timestamp', 'trip', 'vehicle'], ['position', 'timestamp', 'vehicle'], ['position', 'timestamp', 'vehicle'], ['position', 'timestamp', 'vehicle'], ['position', 'timestamp', 'trip', 'vehicle'], ['position', 'timestamp', 'trip', 'vehicle'], ['position', 'timestamp', 'trip', 'vehicle'], ['position', 'timestamp', 'vehicle'], ['position', 'timestamp', 'trip', 'vehicle'], ['position', 'timestamp', 'trip', 'vehicle'], ['position', 'timestamp', 'trip', 'vehicle'], ['position', 'timestamp', 'trip', 'vehicle'], ['position', 'timestamp', 'vehicle'], ['position', 'timestamp', 'trip', 'vehicle'], ['position', 'timestamp', 'trip', 'vehicle'], ['position', 'timestamp', 'trip', 'vehicle'], ['position', 'timestamp', 'vehicle'], ['position', 'timestamp', 'trip', 'vehicle'], ['position', 'timestamp', 'vehicle'], ['position', 'timestamp', 'trip', 'vehicle'], ['position', 'timestamp', 'vehicle'], ['position', 'timestamp', 'vehicle'], ['position', 'timestamp', 'trip', 'vehicle'], ['position', 'timestamp', 'trip', 'vehicle'], ['position', 'timestamp', 'vehicle'], ['position', 'timestamp', 'trip', 'vehicle'], ['position', 'timestamp', 'trip', 'vehicle'], ['position', 'timestamp', 'trip', 'vehicle'], ['position', 'timestamp', 'vehicle'], ['position', 'timestamp', 'trip', 'vehicle'], ['position', 'timestamp', 'trip', 'vehicle'], ['position', 'timestamp', 'trip', 'vehicle'], ['position', 'timestamp', 'trip', 'vehicle'], ['position', 'timestamp', 'vehicle'], ['position', 'timestamp', 'trip', 'vehicle'], ['position', 'timestamp', 'trip', 'vehicle'], ['position', 'timestamp', 'trip', 'vehicle'], ['position', 'timestamp', 'trip', 'vehicle'], ['position', 'timestamp', 'vehicle'], ['position', 'timestamp', 'trip', 'vehicle'], ['position', 'timestamp', 'trip', 'vehicle'], ['position', 'timestamp', 'trip', 'vehicle'], ['position', 'timestamp', 'trip', 'vehicle'], ['position', 'timestamp', 'vehicle'], ['position', 'timestamp', 'trip', 'vehicle'], ['position', 'timestamp', 'trip', 'vehicle'], ['position', 'timestamp', 'trip', 'vehicle'], ['position', 'timestamp', 'trip', 'vehicle'], ['position', 'timestamp', 'trip', 'vehicle'], ['position', 'timestamp', 'trip', 'vehicle'], ['position', 'timestamp', 'vehicle'], ['position', 'timestamp', 'trip', 'vehicle'], ['position', 'timestamp', 'trip', 'vehicle'], ['position', 'timestamp', 'vehicle'], ['position', 'timestamp', 'vehicle'], ['position', 'timestamp', 'trip', 'vehicle'], ['position', 'timestamp', 'trip', 'vehicle'], ['position', 'timestamp', 'vehicle'], ['position', 'timestamp', 'trip', 'vehicle'], ['position', 'timestamp', 'vehicle'], ['position', 'timestamp', 'vehicle'], ['position', 'timestamp', 'vehicle'], ['position', 'timestamp', 'trip', 'vehicle'], ['position', 'timestamp', 'trip', 'vehicle'], ['position', 'timestamp', 'vehicle'], ['position', 'timestamp', 'vehicle'], ['position', 'timestamp', 'trip', 'vehicle'], ['position', 'timestamp', 'trip', 'vehicle'], ['position', 'timestamp', 'trip', 'vehicle'], ['position', 'timestamp', 'trip', 'vehicle'], ['position', 'timestamp', 'trip', 'vehicle'], ['position', 'timestamp', 'vehicle'], ['position', 'timestamp', 'vehicle'], ['position', 'timestamp', 'trip', 'vehicle'], ['position', 'timestamp', 'trip', 'vehicle'], ['position', 'timestamp', 'trip', 'vehicle'], ['position', 'timestamp', 'trip', 'vehicle'], ['position', 'timestamp', 'vehicle'], ['position', 'timestamp', 'trip', 'vehicle'], ['position', 'timestamp', 'trip', 'vehicle'], ['position', 'timestamp', 'trip', 'vehicle'], ['position', 'timestamp', 'vehicle'], ['position', 'timestamp', 'vehicle'], ['position', 'timestamp', 'trip', 'vehicle'], ['position', 'timestamp', 'trip', 'vehicle'], ['position', 'timestamp', 'trip', 'vehicle'], ['position', 'timestamp', 'trip', 'vehicle'], ['position', 'timestamp', 'trip', 'vehicle'], ['position', 'timestamp', 'trip', 'vehicle'], ['position', 'timestamp', 'trip', 'vehicle'], ['position', 'timestamp', 'vehicle'], ['position', 'timestamp', 'vehicle'], ['position', 'timestamp', 'trip', 'vehicle'], ['position', 'timestamp', 'trip', 'vehicle'], ['position', 'timestamp', 'trip', 'vehicle'], ['position', 'timestamp', 'vehicle'], ['position', 'timestamp', 'vehicle'], ['position', 'timestamp', 'vehicle'], ['position', 'timestamp', 'trip', 'vehicle'], ['position', 'timestamp', 'trip', 'vehicle'], ['position', 'timestamp', 'trip', 'vehicle'], ['position', 'timestamp', 'trip', 'vehicle'], ['position', 'timestamp', 'trip', 'vehicle'], ['position', 'timestamp', 'trip', 'vehicle'], ['position', 'timestamp', 'trip', 'vehicle'], ['position', 'timestamp', 'trip', 'vehicle'], ['position', 'timestamp', 'trip', 'vehicle'], ['position', 'timestamp', 'trip', 'vehicle'], ['position', 'timestamp', 'trip', 'vehicle'], ['position', 'timestamp', 'vehicle'], ['position', 'timestamp', 'trip', 'vehicle'], ['position', 'timestamp', 'trip', 'vehicle'], ['position', 'timestamp', 'trip', 'vehicle'], ['position', 'timestamp', 'trip', 'vehicle'], ['position', 'timestamp', 'vehicle'], ['position', 'timestamp', 'trip', 'vehicle'], ['position', 'timestamp', 'trip', 'vehicle'], ['position', 'timestamp', 'vehicle'], ['position', 'timestamp', 'trip', 'vehicle'], ['position', 'timestamp', 'trip', 'vehicle'], ['position', 'timestamp', 'vehicle'], ['position', 'timestamp', 'trip', 'vehicle'], ['position', 'timestamp', 'trip', 'vehicle'], ['position', 'timestamp', 'trip', 'vehicle'], ['position', 'timestamp', 'trip', 'vehicle'], ['position', 'timestamp', 'vehicle'], ['position', 'timestamp', 'trip', 'vehicle'], ['position', 'timestamp', 'trip', 'vehicle'], ['position', 'timestamp', 'trip', 'vehicle'], ['position', 'timestamp', 'trip', 'vehicle'], ['position', 'timestamp', 'trip', 'vehicle'], ['position', 'timestamp', 'trip', 'vehicle'], ['position', 'timestamp', 'vehicle'], ['position', 'timestamp', 'vehicle'], ['position', 'timestamp', 'trip', 'vehicle'], ['position', 'timestamp', 'vehicle'], ['position', 'timestamp', 'trip', 'vehicle'], ['position', 'timestamp', 'vehicle'], ['position', 'timestamp', 'trip', 'vehicle'], ['position', 'timestamp', 'vehicle'], ['position', 'timestamp', 'trip', 'vehicle'], ['position', 'timestamp', 'trip', 'vehicle'], ['position', 'timestamp', 'trip', 'vehicle'], ['position', 'timestamp', 'trip', 'vehicle'], ['position', 'timestamp', 'vehicle'], ['position', 'timestamp', 'vehicle'], ['position', 'timestamp', 'trip', 'vehicle'], ['position', 'timestamp', 'trip', 'vehicle'], ['position', 'timestamp', 'trip', 'vehicle'], ['position', 'timestamp', 'trip', 'vehicle'], ['position', 'timestamp', 'vehicle'], ['position', 'timestamp', 'trip', 'vehicle'], ['position', 'timestamp', 'vehicle'], ['position', 'timestamp', 'vehicle'], ['position', 'timestamp', 'trip', 'vehicle'], ['position', 'timestamp', 'trip', 'vehicle'], ['position', 'timestamp', 'trip', 'vehicle'], ['position', 'timestamp', 'trip', 'vehicle'], ['position', 'timestamp', 'trip', 'vehicle'], ['position', 'timestamp', 'trip', 'vehicle'], ['position', 'timestamp', 'trip', 'vehicle'], ['position', 'timestamp', 'trip', 'vehicle'], ['position', 'timestamp', 'vehicle'], ['position', 'timestamp', 'trip', 'vehicle'], ['position', 'timestamp', 'trip', 'vehicle'], ['position', 'timestamp', 'trip', 'vehicle'], ['position', 'timestamp', 'trip', 'vehicle'], ['position', 'timestamp', 'trip', 'vehicle'], ['position', 'timestamp', 'trip', 'vehicle'], ['position', 'timestamp', 'trip', 'vehicle'], ['position', 'timestamp', 'trip', 'vehicle'], ['position', 'timestamp', 'trip', 'vehicle'], ['position', 'timestamp', 'trip', 'vehicle'], ['position', 'timestamp', 'trip', 'vehicle'], ['position', 'timestamp', 'vehicle'], ['position', 'timestamp', 'trip', 'vehicle'], ['position', 'timestamp', 'trip', 'vehicle'], ['position', 'timestamp', 'trip', 'vehicle'], ['position', 'timestamp', 'trip', 'vehicle'], ['position', 'timestamp', 'trip', 'vehicle'], ['position', 'timestamp', 'trip', 'vehicle'], ['position', 'timestamp', 'trip', 'vehicle'], ['position', 'timestamp', 'trip', 'vehicle'], ['position', 'timestamp', 'trip', 'vehicle'], ['position', 'timestamp', 'vehicle'], ['position', 'timestamp', 'trip', 'vehicle'], ['position', 'timestamp', 'vehicle'], ['position', 'timestamp', 'vehicle'], ['position', 'timestamp', 'vehicle'], ['position', 'timestamp', 'vehicle'], ['position', 'timestamp', 'vehicle'], ['position', 'timestamp', 'vehicle'], ['position', 'timestamp', 'trip', 'vehicle'], ['position', 'timestamp', 'trip', 'vehicle'], ['position', 'timestamp', 'trip', 'vehicle'], ['position', 'timestamp', 'trip', 'vehicle'], ['position', 'timestamp', 'trip', 'vehicle'], ['position', 'timestamp', 'trip', 'vehicle'], ['position', 'timestamp', 'vehicle'], ['position', 'timestamp', 'vehicle'], ['position', 'timestamp', 'vehicle'], ['position', 'timestamp', 'trip', 'vehicle'], ['position', 'timestamp', 'trip', 'vehicle'], ['position', 'timestamp', 'trip', 'vehicle'], ['position', 'timestamp', 'trip', 'vehicle'], ['position', 'timestamp', 'trip', 'vehicle'], ['position', 'timestamp', 'trip', 'vehicle'], ['position', 'timestamp', 'trip', 'vehicle'], ['position', 'timestamp', 'trip', 'vehicle'], ['position', 'timestamp', 'trip', 'vehicle'], ['position', 'timestamp', 'vehicle'], ['position', 'timestamp', 'trip', 'vehicle'], ['position', 'timestamp', 'trip', 'vehicle'], ['position', 'timestamp', 'vehicle'], ['position', 'timestamp', 'vehicle'], ['position', 'timestamp', 'vehicle'], ['position', 'timestamp', 'vehicle'], ['position', 'timestamp', 'vehicle'], ['position', 'timestamp', 'trip', 'vehicle'], ['position', 'timestamp', 'vehicle'], ['position', 'timestamp', 'trip', 'vehicle'], ['position', 'timestamp', 'trip', 'vehicle'], ['position', 'timestamp', 'vehicle'], ['position', 'timestamp', 'trip', 'vehicle'], ['position', 'timestamp', 'trip', 'vehicle'], ['position', 'timestamp', 'trip', 'vehicle'], ['position', 'timestamp', 'trip', 'vehicle'], ['position', 'timestamp', 'trip', 'vehicle'], ['position', 'timestamp', 'trip', 'vehicle'], ['position', 'timestamp', 'trip', 'vehicle'], ['position', 'timestamp', 'trip', 'vehicle'], ['position', 'timestamp', 'vehicle'], ['position', 'timestamp', 'trip', 'vehicle'], ['position', 'timestamp', 'trip', 'vehicle'], ['position', 'timestamp', 'vehicle'], ['position', 'timestamp', 'vehicle'], ['position', 'timestamp', 'trip', 'vehicle'], ['position', 'timestamp', 'vehicle'], ['position', 'timestamp', 'vehicle'], ['position', 'timestamp', 'vehicle'], ['position', 'timestamp', 'vehicle'], ['position', 'timestamp', 'vehicle'], ['position', 'timestamp', 'trip', 'vehicle'], ['position', 'timestamp', 'trip', 'vehicle'], ['position', 'timestamp', 'trip', 'vehicle'], ['position', 'timestamp', 'trip', 'vehicle'], ['position', 'timestamp', 'trip', 'vehicle'], ['position', 'timestamp', 'trip', 'vehicle'], ['position', 'timestamp', 'trip', 'vehicle'], ['position', 'timestamp', 'trip', 'vehicle'], ['position', 'timestamp', 'trip', 'vehicle'], ['position', 'timestamp', 'trip', 'vehicle'], ['position', 'timestamp', 'trip', 'vehicle'], ['position', 'timestamp', 'trip', 'vehicle'], ['position', 'timestamp', 'trip', 'vehicle'], ['position', 'timestamp', 'trip', 'vehicle'], ['position', 'timestamp', 'trip', 'vehicle'], ['position', 'timestamp', 'trip', 'vehicle'], ['position', 'timestamp', 'trip', 'vehicle'], ['position', 'timestamp', 'trip', 'vehicle'], ['position', 'timestamp', 'vehicle'], ['position', 'timestamp', 'trip', 'vehicle'], ['position', 'timestamp', 'trip', 'vehicle'], ['position', 'timestamp', 'trip', 'vehicle'], ['position', 'timestamp', 'trip', 'vehicle'], ['position', 'timestamp', 'trip', 'vehicle'], ['position', 'timestamp', 'trip', 'vehicle'], ['position', 'timestamp', 'trip', 'vehicle'], ['position', 'timestamp', 'trip', 'vehicle'], ['position', 'timestamp', 'vehicle'], ['position', 'timestamp', 'vehicle'], ['position', 'timestamp', 'trip', 'vehicle'], ['position', 'timestamp', 'trip', 'vehicle'], ['position', 'timestamp', 'trip', 'vehicle'], ['position', 'timestamp', 'trip', 'vehicle'], ['position', 'timestamp', 'trip', 'vehicle'], ['position', 'timestamp', 'trip', 'vehicle'], ['position', 'timestamp', 'trip', 'vehicle'], ['position', 'timestamp', 'trip', 'vehicle'], ['position', 'timestamp', 'trip', 'vehicle'], ['position', 'timestamp', 'trip', 'vehicle'], ['position', 'timestamp', 'trip', 'vehicle'], ['position', 'timestamp', 'trip', 'vehicle'], ['position', 'timestamp', 'trip', 'vehicle'], ['position', 'timestamp', 'trip', 'vehicle'], ['position', 'timestamp', 'trip', 'vehicle'], ['position', 'timestamp', 'trip', 'vehicle'], ['position', 'timestamp', 'trip', 'vehicle'], ['position', 'timestamp', 'vehicle'], ['position', 'timestamp', 'trip', 'vehicle'], ['position', 'timestamp', 'trip', 'vehicle'], ['position', 'timestamp', 'trip', 'vehicle'], ['position', 'timestamp', 'vehicle'], ['position', 'timestamp', 'vehicle'], ['position', 'timestamp', 'trip', 'vehicle'], ['position', 'timestamp', 'vehicle'], ['position', 'timestamp', 'trip', 'vehicle'], ['position', 'timestamp', 'trip', 'vehicle'], ['position', 'timestamp', 'trip', 'vehicle'], ['position', 'timestamp', 'trip', 'vehicle'], ['position', 'timestamp', 'vehicle'], ['position', 'timestamp', 'trip', 'vehicle'], ['position', 'timestamp', 'trip', 'vehicle'], ['position', 'timestamp', 'trip', 'vehicle'], ['position', 'timestamp', 'trip', 'vehicle'], ['position', 'timestamp', 'trip', 'vehicle'], ['position', 'timestamp', 'trip', 'vehicle'], ['position', 'timestamp', 'vehicle'], ['position', 'timestamp', 'trip', 'vehicle'], ['position', 'timestamp', 'trip', 'vehicle'], ['position', 'timestamp', 'trip', 'vehicle'], ['position', 'timestamp', 'trip', 'vehicle'], ['position', 'timestamp', 'vehicle'], ['position', 'timestamp', 'trip', 'vehicle'], ['position', 'timestamp', 'vehicle'], ['position', 'timestamp', 'vehicle'], ['position', 'timestamp', 'trip', 'vehicle'], ['position', 'timestamp', 'trip', 'vehicle'], ['position', 'timestamp', 'trip', 'vehicle'], ['position', 'timestamp', 'trip', 'vehicle'], ['position', 'timestamp', 'trip', 'vehicle'], ['position', 'timestamp', 'trip', 'vehicle'], ['position', 'timestamp', 'trip', 'vehicle'], ['position', 'timestamp', 'trip', 'vehicle'], ['position', 'timestamp', 'trip', 'vehicle'], ['position', 'timestamp', 'vehicle'], ['position', 'timestamp', 'trip', 'vehicle'], ['position', 'timestamp', 'vehicle'], ['position', 'timestamp', 'trip', 'vehicle'], ['position', 'timestamp', 'trip', 'vehicle'], ['position', 'timestamp', 'trip', 'vehicle'], ['position', 'timestamp', 'vehicle'], ['position', 'timestamp', 'trip', 'vehicle'], ['position', 'timestamp', 'trip', 'vehicle'], ['position', 'timestamp', 'trip', 'vehicle'], ['position', 'timestamp', 'trip', 'vehicle'], ['position', 'timestamp', 'vehicle'], ['position', 'timestamp', 'trip', 'vehicle'], ['position', 'timestamp', 'vehicle'], ['position', 'timestamp', 'vehicle'], ['position', 'timestamp', 'vehicle'], ['position', 'timestamp', 'trip', 'vehicle'], ['position', 'timestamp', 'trip', 'vehicle'], ['position', 'timestamp', 'trip', 'vehicle'], ['position', 'timestamp', 'vehicle'], ['position', 'timestamp', 'trip', 'vehicle'], ['position', 'timestamp', 'trip', 'vehicle'], ['position', 'timestamp', 'trip', 'vehicle'], ['position', 'timestamp', 'trip', 'vehicle'], ['position', 'timestamp', 'vehicle'], ['position', 'timestamp', 'trip', 'vehicle'], ['position', 'timestamp', 'vehicle'], ['position', 'timestamp', 'trip', 'vehicle'], ['position', 'timestamp', 'vehicle'], ['position', 'timestamp', 'vehicle'], ['position', 'timestamp', 'trip', 'vehicle'], ['position', 'timestamp', 'trip', 'vehicle'], ['position', 'timestamp', 'trip', 'vehicle'], ['position', 'timestamp', 'trip', 'vehicle'], ['position', 'timestamp', 'trip', 'vehicle'], ['position', 'timestamp', 'vehicle'], ['position', 'timestamp', 'trip', 'vehicle'], ['position', 'timestamp', 'trip', 'vehicle'], ['position', 'timestamp', 'trip', 'vehicle'], ['position', 'timestamp', 'vehicle'], ['position', 'timestamp', 'trip', 'vehicle'], ['position', 'timestamp', 'trip', 'vehicle'], ['position', 'timestamp', 'vehicle'], ['position', 'timestamp', 'vehicle'], ['position', 'timestamp', 'trip', 'vehicle'], ['position', 'timestamp', 'trip', 'vehicle'], ['position', 'timestamp', 'trip', 'vehicle'], ['position', 'timestamp', 'trip', 'vehicle'], ['position', 'timestamp', 'trip', 'vehicle'], ['position', 'timestamp', 'trip', 'vehicle'], ['position', 'timestamp', 'vehicle'], ['position', 'timestamp', 'trip', 'vehicle'], ['position', 'timestamp', 'trip', 'vehicle'], ['position', 'timestamp', 'trip', 'vehicle'], ['position', 'timestamp', 'trip', 'vehicle'], ['position', 'timestamp', 'trip', 'vehicle'], ['position', 'timestamp', 'trip', 'vehicle'], ['position', 'timestamp', 'vehicle'], ['position', 'timestamp', 'vehicle'], ['position', 'timestamp', 'vehicle'], ['position', 'timestamp', 'trip', 'vehicle'], ['position', 'timestamp', 'trip', 'vehicle'], ['position', 'timestamp', 'trip', 'vehicle'], ['position', 'timestamp', 'trip', 'vehicle'], ['position', 'timestamp', 'vehicle'], ['position', 'timestamp', 'trip', 'vehicle'], ['position', 'timestamp', 'trip', 'vehicle'], ['position', 'timestamp', 'trip', 'vehicle'], ['position', 'timestamp', 'trip', 'vehicle'], ['position', 'timestamp', 'trip', 'vehicle'], ['position', 'timestamp', 'trip', 'vehicle'], ['position', 'timestamp', 'trip', 'vehicle'], ['position', 'timestamp', 'trip', 'vehicle'], ['position', 'timestamp', 'trip', 'vehicle'], ['position', 'timestamp', 'trip', 'vehicle'], ['position', 'timestamp', 'trip', 'vehicle'], ['position', 'timestamp', 'trip', 'vehicle'], ['position', 'timestamp', 'trip', 'vehicle'], ['position', 'timestamp', 'trip', 'vehicle'], ['position', 'timestamp', 'vehicle'], ['position', 'timestamp', 'vehicle'], ['position', 'timestamp', 'trip', 'vehicle'], ['position', 'timestamp', 'trip', 'vehicle'], ['position', 'timestamp', 'vehicle'], ['position', 'timestamp', 'vehicle'], ['position', 'timestamp', 'trip', 'vehicle'], ['position', 'timestamp', 'trip', 'vehicle'], ['position', 'timestamp', 'trip', 'vehicle'], ['position', 'timestamp', 'trip', 'vehicle'], ['position', 'timestamp', 'trip', 'vehicle'], ['position', 'timestamp', 'trip', 'vehicle'], ['position', 'timestamp', 'trip', 'vehicle'], ['position', 'timestamp', 'vehicle'], ['position', 'timestamp', 'vehicle'], ['position', 'timestamp', 'trip', 'vehicle'], ['position', 'timestamp', 'trip', 'vehicle'], ['position', 'timestamp', 'trip', 'vehicle'], ['position', 'timestamp', 'vehicle'], ['position', 'timestamp', 'vehicle'], ['position', 'timestamp', 'trip', 'vehicle'], ['position', 'timestamp', 'trip', 'vehicle'], ['position', 'timestamp', 'vehicle'], ['position', 'timestamp', 'vehicle'], ['position', 'timestamp', 'trip', 'vehicle'], ['position', 'timestamp', 'trip', 'vehicle'], ['position', 'timestamp', 'trip', 'vehicle'], ['position', 'timestamp', 'trip', 'vehicle'], ['position', 'timestamp', 'trip', 'vehicle'], ['position', 'timestamp', 'vehicle'], ['position', 'timestamp', 'trip', 'vehicle'], ['position', 'timestamp', 'trip', 'vehicle'], ['position', 'timestamp', 'trip', 'vehicle'], ['position', 'timestamp', 'trip', 'vehicle'], ['position', 'timestamp', 'trip', 'vehicle'], ['position', 'timestamp', 'trip', 'vehicle'], ['position', 'timestamp', 'trip', 'vehicle'], ['position', 'timestamp', 'vehicle'], ['position', 'timestamp', 'trip', 'vehicle'], ['position', 'timestamp', 'vehicle'], ['position', 'timestamp', 'trip', 'vehicle'], ['position', 'timestamp', 'trip', 'vehicle'], ['position', 'timestamp', 'trip', 'vehicle'], ['position', 'timestamp', 'trip', 'vehicle'], ['position', 'timestamp', 'trip', 'vehicle'], ['position', 'timestamp', 'trip', 'vehicle'], ['position', 'timestamp', 'trip', 'vehicle'], ['position', 'timestamp', 'trip', 'vehicle'], ['position', 'timestamp', 'trip', 'vehicle'], ['position', 'timestamp', 'trip', 'vehicle'], ['position', 'timestamp', 'vehicle'], ['position', 'timestamp', 'trip', 'vehicle'], ['position', 'timestamp', 'trip', 'vehicle'], ['position', 'timestamp', 'vehicle'], ['position', 'timestamp', 'trip', 'vehicle'], ['position', 'timestamp', 'trip', 'vehicle'], ['position', 'timestamp', 'trip', 'vehicle'], ['position', 'timestamp', 'trip', 'vehicle'], ['position', 'timestamp', 'trip', 'vehicle'], ['position', 'timestamp', 'trip', 'vehicle'], ['position', 'timestamp', 'trip', 'vehicle'], ['position', 'timestamp', 'trip', 'vehicle'], ['position', 'timestamp', 'trip', 'vehicle'], ['position', 'timestamp', 'vehicle'], ['position', 'timestamp', 'vehicle'], ['position', 'timestamp', 'trip', 'vehicle'], ['position', 'timestamp', 'trip', 'vehicle'], ['position', 'timestamp', 'trip', 'vehicle'], ['position', 'timestamp', 'trip', 'vehicle'], ['position', 'timestamp', 'trip', 'vehicle'], ['position', 'timestamp', 'trip', 'vehicle'], ['position', 'timestamp', 'trip', 'vehicle'], ['position', 'timestamp', 'trip', 'vehicle'], ['position', 'timestamp', 'vehicle'], ['position', 'timestamp', 'trip', 'vehicle'], ['position', 'timestamp', 'trip', 'vehicle'], ['position', 'timestamp', 'trip', 'vehicle'], ['position', 'timestamp', 'trip', 'vehicle'], ['position', 'timestamp', 'vehicle'], ['position', 'timestamp', 'trip', 'vehicle'], ['position', 'timestamp', 'trip', 'vehicle'], ['position', 'timestamp', 'trip', 'vehicle'], ['position', 'timestamp', 'trip', 'vehicle'], ['position', 'timestamp', 'vehicle'], ['position', 'timestamp', 'trip', 'vehicle'], ['position', 'timestamp', 'trip', 'vehicle'], ['position', 'timestamp', 'trip', 'vehicle'], ['position', 'timestamp', 'trip', 'vehicle'], ['position', 'timestamp', 'trip', 'vehicle'], ['position', 'timestamp', 'trip', 'vehicle'], ['position', 'timestamp', 'vehicle'], ['position', 'timestamp', 'trip', 'vehicle'], ['position', 'timestamp', 'trip', 'vehicle'], ['position', 'timestamp', 'trip', 'vehicle'], ['position', 'timestamp', 'trip', 'vehicle'], ['position', 'timestamp', 'trip', 'vehicle'], ['position', 'timestamp', 'trip', 'vehicle'], ['position', 'timestamp', 'trip', 'vehicle']]\n"
     ]
    }
   ],
   "source": [
    "from protobuf_to_dict import protobuf_to_dict\n",
    "import gtfs_rt_pb2 as gtfs_rt\n",
    "import pandas as pd\n",
    "from pandas.io.json import json_normalize\n",
    "import requests\n",
    "\n",
    "# First script written only works with files.\n",
    "# f = open('MTS (1).pb', 'rb')\n",
    "# raw_str = f.read()\n",
    "#\n",
    "# msg = gtfs_rt.FeedMessage()\n",
    "# msg.ParseFromString(raw_str)\n",
    "#\n",
    "# # currently working on processing the gtfs rt feed into the correct format.\n",
    "# print(msg)\n",
    "\n",
    "feed = gtfs_rt.FeedMessage()\n",
    "response = requests.get('https://realtime.sdmts.com/api/api/gtfs_realtime/vehicle-positions-for-agency/MTS.pb?key=d6d8bc59-5bd6-4160-acea-2965f2cb48b0')\n",
    "feed.ParseFromString(response.content)\n",
    "\n",
    "feed_dict = protobuf_to_dict(feed)\n",
    "\"\"\"\n",
    "    This is a test run for vehicle position only \n",
    "    \n",
    "    {'id': '1', \n",
    "    'vehicle': {\n",
    "        'trip': {'trip_id': '11975233', 'route_id': '41'}, \n",
    "        'timestamp': 1493839585, \n",
    "        'vehicle': {'id': '911'}, \n",
    "        'position': {'latitude': 32.86729049682617, 'longitude': -117.21359252929688}\n",
    "        }\n",
    "    }\n",
    "    \n",
    "    {\n",
    "     'id': '1', \n",
    "     'vehicle': {\n",
    "        'trip': {'trip_id': '11975234', 'route_id': '41'}, \n",
    "        'timestamp': 1493840910, \n",
    "        'position': {'longitude': -117.23302459716797, 'latitude': 32.87479782104492}, \n",
    "        'vehicle': {'id': '911'}\n",
    "        }\n",
    "    }\n",
    "\n",
    "    \n",
    "\"\"\"\n",
    "# print(sorted(feed_dict['entity'].iteritems(), key=lambda (k,v): (v,k)))\n",
    "\n",
    "prep_dict_lst = []\n",
    "\n",
    "def dictSort(d):\n",
    "    \"\"\" returns a dictionary sorted by keys \"\"\"\n",
    "    our_list = d.items()\n",
    "    our_list.sort()\n",
    "    k = {}\n",
    "    for item in our_list:\n",
    "        k[item[0]] = item[1]\n",
    "    return k\n",
    "\n",
    "\n",
    "for entity in feed_dict['entity']:\n",
    "    print(sorted(entity['vehicle'].items()))\n",
    "    break\n",
    "\n",
    "# print(prep_dict_lst)"
   ]
  },
  {
   "cell_type": "code",
   "execution_count": null,
   "metadata": {
    "collapsed": true
   },
   "outputs": [],
   "source": []
  }
 ],
 "metadata": {
  "kernelspec": {
   "display_name": "Python 3",
   "language": "python",
   "name": "python3"
  },
  "language_info": {
   "codemirror_mode": {
    "name": "ipython",
    "version": 3
   },
   "file_extension": ".py",
   "mimetype": "text/x-python",
   "name": "python",
   "nbconvert_exporter": "python",
   "pygments_lexer": "ipython3",
   "version": "3.5.3"
  }
 },
 "nbformat": 4,
 "nbformat_minor": 1
}
